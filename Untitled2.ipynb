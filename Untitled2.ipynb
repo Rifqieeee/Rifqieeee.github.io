{
  "nbformat": 4,
  "nbformat_minor": 0,
  "metadata": {
    "colab": {
      "name": "Untitled2.ipynb",
      "provenance": [],
      "collapsed_sections": [],
      "toc_visible": true,
      "authorship_tag": "ABX9TyO13hOJc9m2Lq8wSRXc8a1I",
      "include_colab_link": true
    },
    "kernelspec": {
      "name": "python3",
      "display_name": "Python 3"
    },
    "language_info": {
      "name": "python"
    }
  },
  "cells": [
    {
      "cell_type": "markdown",
      "metadata": {
        "id": "view-in-github",
        "colab_type": "text"
      },
      "source": [
        "<a href=\"https://colab.research.google.com/github/Rifqieeee/Rifqieeee.github.io/blob/main/Untitled2.ipynb\" target=\"_parent\"><img src=\"https://colab.research.google.com/assets/colab-badge.svg\" alt=\"Open In Colab\"/></a>"
      ]
    },
    {
      "cell_type": "code",
      "execution_count": 1,
      "metadata": {
        "colab": {
          "base_uri": "https://localhost:8080/"
        },
        "id": "u1ge4D87lfFG",
        "outputId": "e3c8807d-a203-4a4c-f9d0-62c87a317ada"
      },
      "outputs": [
        {
          "output_type": "stream",
          "name": "stdout",
          "text": [
            "Elemen awal\n",
            "['Hita', 'Rifqi', 'Enrico']\n"
          ]
        }
      ],
      "source": [
        "nama=[\"Hita\",\"Rifqi\",\"Enrico\"]\n",
        "print (\"Elemen awal\")\n",
        "print (nama)"
      ]
    }
  ]
}